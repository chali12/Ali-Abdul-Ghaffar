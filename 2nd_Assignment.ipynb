{
  "nbformat": 4,
  "nbformat_minor": 0,
  "metadata": {
    "colab": {
      "provenance": [],
      "authorship_tag": "ABX9TyOtt/eHoQjxKCkSp4OnQQI2",
      "include_colab_link": true
    },
    "kernelspec": {
      "name": "python3",
      "display_name": "Python 3"
    },
    "language_info": {
      "name": "python"
    }
  },
  "cells": [
    {
      "cell_type": "markdown",
      "metadata": {
        "id": "view-in-github",
        "colab_type": "text"
      },
      "source": [
        "<a href=\"https://colab.research.google.com/github/chali12/Ali-Abdul-Ghaffar/blob/main/2nd_Assignment.ipynb\" target=\"_parent\"><img src=\"https://colab.research.google.com/assets/colab-badge.svg\" alt=\"Open In Colab\"/></a>"
      ]
    },
    {
      "cell_type": "code",
      "execution_count": null,
      "metadata": {
        "colab": {
          "base_uri": "https://localhost:8080/"
        },
        "id": "UYQecIPjlWPD",
        "outputId": "8dc6ba06-2274-45af-bf73-65486cd60e3c"
      },
      "outputs": [
        {
          "output_type": "stream",
          "name": "stdout",
          "text": [
            "Vocabulary:  {'life': 6, 'is': 4, 'like': 7, 'an': 0, 'elevator': 2, 'on': 9, 'your': 18, 'way': 16, 'up': 15, 'sometimes': 12, 'you': 17, 'have': 3, 'to': 14, 'stop': 13, 'and': 1, 'let': 5, 'some': 11, 'people': 10, 'off': 8}\n",
            "Encoded Document is:\n",
            "[[1 0 1 0 1 0 1 1 0 0 0 0 0 0 0 0 0 0 0]\n",
            " [0 0 0 0 0 0 0 0 0 1 0 0 1 0 0 1 1 0 1]\n",
            " [0 1 0 1 0 1 0 0 1 0 1 1 0 1 1 0 0 1 0]]\n"
          ]
        }
      ],
      "source": [
        "from sklearn.feature_extraction.text import CountVectorizer\n",
        "\n",
        "document = [\"Life is like an elevator\",\n",
        "            \"On your way up sometimes\",\n",
        "            \"You have to stop and let some people off\"]\n",
        " \n",
        "# Create a Vectorizer Object\n",
        "vectorizer = CountVectorizer()\n",
        " \n",
        "vectorizer.fit(document)\n",
        " \n",
        "# Printing the identified Unique words along with their indices\n",
        "print(\"Vocabulary: \", vectorizer.vocabulary_)\n",
        " \n",
        "# Encode the Document\n",
        "vector = vectorizer.transform(document)\n",
        " \n",
        "# Summarizing the Encoded Texts\n",
        "print(\"Encoded Document is:\")\n",
        "print(vector.toarray())"
      ]
    }
  ]
}